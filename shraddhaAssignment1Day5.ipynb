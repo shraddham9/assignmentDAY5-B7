{
  "nbformat": 4,
  "nbformat_minor": 0,
  "metadata": {
    "colab": {
      "name": "shraddhaAssignment1Day5.ipynb",
      "provenance": []
    },
    "kernelspec": {
      "name": "python3",
      "display_name": "Python 3"
    }
  },
  "cells": [
    {
      "cell_type": "code",
      "metadata": {
        "id": "SJxZp1iAPDT7",
        "colab_type": "code",
        "colab": {}
      },
      "source": [
        "#comments\n",
        "#Program to identify sub list [1,1,5]"
      ],
      "execution_count": null,
      "outputs": []
    },
    {
      "cell_type": "code",
      "metadata": {
        "id": "L4VeBBcnamUJ",
        "colab_type": "code",
        "colab": {
          "base_uri": "https://localhost:8080/",
          "height": 68
        },
        "outputId": "a9b03fed-5836-4ec0-e2a1-e245adfcd99d"
      },
      "source": [
        "test_list =  [1, 5, 6, 5, 1, 2, 3, 6]\n",
        "sub_list = [1, 1, 5]\n",
        " \n",
        "print (\"Original list : \" + str(test_list)) \n",
        "print (\"Original sub list : \" + str(sub_list)) \n",
        "    \n",
        "output = 0\n",
        "if(all(x in test_list for x in sub_list)): \n",
        "    output = 1 \n",
        "if (output) : \n",
        "    print (\"its a match \") \n",
        "else : \n",
        "    print (\"it's  gone \") "
      ],
      "execution_count": 9,
      "outputs": [
        {
          "output_type": "stream",
          "text": [
            "Original list : [1, 5, 6, 5, 1, 2, 3, 6]\n",
            "Original sub list : [1, 1, 5]\n",
            "its a match \n"
          ],
          "name": "stdout"
        }
      ]
    },
    {
      "cell_type": "code",
      "metadata": {
        "id": "l5pVV38nbXsv",
        "colab_type": "code",
        "colab": {
          "base_uri": "https://localhost:8080/",
          "height": 68
        },
        "outputId": "389fa4de-5e8a-4116-b928-c30fe2bd291d"
      },
      "source": [
        "test_list =  [5, 6, 2, 3, 6]\n",
        "sub_list = [1, 1, 5]\n",
        " \n",
        "print (\"Original list : \" + str(test_list)) \n",
        "print (\"Original sub list : \" + str(sub_list)) \n",
        "    \n",
        "output = 0\n",
        "if(all(x in test_list for x in sub_list)): \n",
        "    output = 1 \n",
        "if (output) : \n",
        "    print (\"its a match \") \n",
        "else : \n",
        "    print (\"it's  gone \") "
      ],
      "execution_count": 17,
      "outputs": [
        {
          "output_type": "stream",
          "text": [
            "Original list : [5, 6, 2, 3, 6]\n",
            "Original sub list : [1, 1, 5]\n",
            "it's  gone \n"
          ],
          "name": "stdout"
        }
      ]
    }
  ]
}