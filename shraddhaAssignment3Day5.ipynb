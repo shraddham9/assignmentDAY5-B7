{
  "nbformat": 4,
  "nbformat_minor": 0,
  "metadata": {
    "colab": {
      "name": "shraddhaAssingnment2Day5.ipyn",
      "provenance": []
    },
    "kernelspec": {
      "name": "python3",
      "display_name": "Python 3"
    }
  },
  "cells": [
    {
      "cell_type": "code",
      "metadata": {
        "id": "ChYsTIgNdsb8",
        "colab_type": "code",
        "colab": {
          "base_uri": "https://localhost:8080/",
          "height": 34
        },
        "outputId": "a708f76b-31d2-4736-858b-d731e6684e06"
      },
      "source": [
        "s = ['hey', 'this', 'is', 'Shraddha', 'assinment2', 'day5']\n",
        "s = list(map(lambda e: e[:1].upper() + e[1:] if e else '', s))\n",
        "s"
      ],
      "execution_count": 6,
      "outputs": [
        {
          "output_type": "execute_result",
          "data": {
            "text/plain": [
              "['Hey', 'This', 'Is', 'Shraddha', 'Assinment2', 'Day5']"
            ]
          },
          "metadata": {
            "tags": []
          },
          "execution_count": 6
        }
      ]
    }
  ]
}